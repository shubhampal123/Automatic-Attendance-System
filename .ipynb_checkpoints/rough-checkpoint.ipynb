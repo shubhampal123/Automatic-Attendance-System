{
 "cells": [
  {
   "cell_type": "code",
   "execution_count": 9,
   "metadata": {},
   "outputs": [
    {
     "name": "stdout",
     "output_type": "stream",
     "text": [
      "some error occured\n"
     ]
    }
   ],
   "source": [
    "import cv2 # openCV -> Open source computer vision,library for solving computer vision problems\n",
    "try:\n",
    "    cam=cv2.VideoCapture(0) \n",
    "    while(cam.isOpened()): # while camera is opend\n",
    "        sucess,frame = cam.read() # if a frame is extracted successfully\n",
    "        if sucess:\n",
    "            cv2.imshow('img',frame)\n",
    "            \n",
    "            if cv2.waitKey(25) & 0xFF == ord('q'): \n",
    "                break\n",
    "            \n",
    "        else:\n",
    "            break \n",
    "    print(x)\n",
    "           \n",
    "except:\n",
    "    print('some error occured')\n",
    "    \n",
    "finally:\n",
    "    cam.release()\n",
    "    cv2.destroyAllWindows()"
   ]
  },
  {
   "cell_type": "code",
   "execution_count": null,
   "metadata": {},
   "outputs": [],
   "source": []
  }
 ],
 "metadata": {
  "kernelspec": {
   "display_name": "Python 3",
   "language": "python",
   "name": "python3"
  },
  "language_info": {
   "codemirror_mode": {
    "name": "ipython",
    "version": 3
   },
   "file_extension": ".py",
   "mimetype": "text/x-python",
   "name": "python",
   "nbconvert_exporter": "python",
   "pygments_lexer": "ipython3",
   "version": "3.6.9"
  }
 },
 "nbformat": 4,
 "nbformat_minor": 4
}
