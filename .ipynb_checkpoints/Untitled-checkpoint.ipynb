{
 "cells": [
  {
   "cell_type": "code",
   "execution_count": 21,
   "metadata": {},
   "outputs": [],
   "source": [
    "import cv2 # openCV -> Open source computer vision,library for solving computer vision problems\n",
    "try:\n",
    "    cam=cv2.VideoCapture(0) \n",
    "    while(cam.isOpened()): # while camera is opend\n",
    "        sucess,frame = cam.read() # if a frame is extracted successfully, frame is captured after evey time slot given by wait key argument\n",
    "        \n",
    "        if sucess:\n",
    "            cv2.imshow('img',frame)\n",
    "            cv2.imwrite('rough/img.jpg',frame)\n",
    "            if cv2.waitKey(5000) & 0xFF == ord('q'): \n",
    "                break\n",
    "            \n",
    "        else:\n",
    "            break \n",
    "\n",
    "           \n",
    "except:\n",
    "    print('some error occured')\n",
    "    \n",
    "finally:\n",
    "    cam.release()\n",
    "    cv2.destroyAllWindows()"
   ]
  },
  {
   "cell_type": "code",
   "execution_count": 15,
   "metadata": {},
   "outputs": [],
   "source": [
    "image=cv2.imread('rough/img.jpg')"
   ]
  },
  {
   "cell_type": "code",
   "execution_count": 17,
   "metadata": {},
   "outputs": [
    {
     "data": {
      "text/plain": [
       "True"
      ]
     },
     "execution_count": 17,
     "metadata": {},
     "output_type": "execute_result"
    }
   ],
   "source": [
    "cv2.imwrite('rough/img1.jpg',image)"
   ]
  },
  {
   "cell_type": "code",
   "execution_count": 44,
   "metadata": {},
   "outputs": [],
   "source": [
    "try:\n",
    "    cam=cv2.VideoCapture(0) \n",
    "    while(cam.isOpened()):\n",
    "        success,frame=cam.read()\n",
    "        gray_frame=cv2.cvtColor(frame,cv2.COLOR_BGR2GRAY)\n",
    "        if success:\n",
    "            face_cascade=cv2.CascadeClassifier('haarcascade_frontalface_default.xml')\n",
    "            faces = face_cascade.detectMultiScale(gray_frame,1.2,0)\n",
    "            for (x,y,w,h) in faces:\n",
    "                cv2.rectangle(frame,(x,y),(x+w,y+h),(0,0,255),2)\n",
    "            \n",
    "            cv2.imshow('img',frame)\n",
    "            \n",
    "            if cv2.waitKey(1) & 0xFF == ord('q'): \n",
    "                break\n",
    "        else:\n",
    "            break \n",
    "\n",
    "except:\n",
    "    print('some error occured')\n",
    "    \n",
    "finally:\n",
    "    cam.release()\n",
    "    cv2.destroyAllWindows()\n",
    "    "
   ]
  },
  {
   "cell_type": "code",
   "execution_count": null,
   "metadata": {},
   "outputs": [],
   "source": []
  }
 ],
 "metadata": {
  "kernelspec": {
   "display_name": "Python 3",
   "language": "python",
   "name": "python3"
  },
  "language_info": {
   "codemirror_mode": {
    "name": "ipython",
    "version": 3
   },
   "file_extension": ".py",
   "mimetype": "text/x-python",
   "name": "python",
   "nbconvert_exporter": "python",
   "pygments_lexer": "ipython3",
   "version": "3.6.9"
  }
 },
 "nbformat": 4,
 "nbformat_minor": 4
}
