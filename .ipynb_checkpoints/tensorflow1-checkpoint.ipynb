{
 "cells": [
  {
   "cell_type": "code",
   "execution_count": 64,
   "metadata": {},
   "outputs": [],
   "source": [
    "# Required Downloads\n",
    "\"\"\"\n",
    "    libraries down\n",
    "    facenet_keras model : https://drive.google.com/drive/folders/12aMYASGCKvDdkygSv1yQq8ns03AStDO_\n",
    "    haarcascade opencv classifier : https://github.com/opencv/opencv/blob/master/data/haarcascades/haarcascade_frontalface_default.xml\n",
    "\n",
    "\"\"\"\n",
    "\n",
    "\n",
    "import tensorflow as tf\n",
    "import numpy as np\n",
    "import cv2\n",
    "import os"
   ]
  },
  {
   "cell_type": "code",
   "execution_count": 65,
   "metadata": {},
   "outputs": [
    {
     "name": "stdout",
     "output_type": "stream",
     "text": [
      "WARNING:tensorflow:No training configuration found in save file: the model was *not* compiled. Compile it manually.\n"
     ]
    }
   ],
   "source": [
    "# define facedetector and model , both takes time\n",
    "model=tf.keras.models.load_model('facenet_keras.h5')\n",
    "facedetector=cv2.CascadeClassifier(\"haarcascade_frontalface_default.xml\")"
   ]
  },
  {
   "cell_type": "code",
   "execution_count": 66,
   "metadata": {},
   "outputs": [],
   "source": [
    "def add_student(directory,name):\n",
    "    cam=cv2.VideoCapture(0)\n",
    "    pic_count=-2\n",
    "    os.mkdir(os.path.join(directory,name))\n",
    "    while pic_count<50:\n",
    "        ret,frame=cam.read()\n",
    "        faces=facedetector.detectMultiScale(\n",
    "            image=frame,\n",
    "            scaleFactor=1.1,\n",
    "            minNeighbors=8\n",
    "        )\n",
    "        for (x,y,w,h) in faces:\n",
    "            pic_count+=1\n",
    "            if pic_count>0:\n",
    "                cv2.imwrite(os.path.join(os.path.join(directory,name),str(pic_count)+'.jpg'),frame[y:y+h,x:x+w])\n",
    "            cv2.rectangle(frame,(x,y),(x+w,y+h),(255,0,0),1)\n",
    "        cv2.imshow('img',frame)\n",
    "        if cv2.waitKey(10)&0xff==ord('q'):\n",
    "            break\n",
    "    cam.release()\n",
    "    cv2.destroyAllWindows()"
   ]
  },
  {
   "cell_type": "code",
   "execution_count": 67,
   "metadata": {},
   "outputs": [],
   "source": [
    "def get_students_encoding(model,directory):\n",
    "    students_encoding={}\n",
    "    list_of_students=os.listdir(directory)\n",
    "    for student in list_of_students:\n",
    "        images=[]\n",
    "        newdirectory=os.path.join(directory,student)\n",
    "        for pic in os.listdir(newdirectory):\n",
    "            image=cv2.imread(os.path.join(newdirectory,pic))\n",
    "            images.append(cv2.resize(image,(160,160),cv2.INTER_AREA)/255.0)\n",
    "        dataset=np.array(images)\n",
    "        encode=model.predict(dataset)\n",
    "        students_encoding[student]=encode\n",
    "    \n",
    "    return students_encoding"
   ]
  },
  {
   "cell_type": "code",
   "execution_count": 68,
   "metadata": {},
   "outputs": [],
   "source": [
    "def calculatedistance(encode1,encode2):\n",
    "    distance=tf.reduce_sum(tf.square(tf.subtract(encode1,encode2)))\n",
    "    return distance"
   ]
  },
  {
   "cell_type": "code",
   "execution_count": 69,
   "metadata": {},
   "outputs": [],
   "source": [
    "def get_min_distance(test_encoding,list_of_encodings):\n",
    "    dist=1000\n",
    "    for encoding in list_of_encodings:\n",
    "        dist=min(dist,np.linalg.norm(test_encoding-encoding))\n",
    "        #dist=min(dist,calculatedistance(test_encoding,encoding))\n",
    "    return dist"
   ]
  },
  {
   "cell_type": "code",
   "execution_count": 70,
   "metadata": {},
   "outputs": [],
   "source": [
    "def identify_student(test_encoding,students_encoding,threshold):\n",
    "    dist=1000\n",
    "    id=\"Someone\"\n",
    "    \n",
    "    for name,encodings in students_encoding.items():\n",
    "        newdist=get_min_distance(test_encoding,encodings)\n",
    "        if newdist<dist:\n",
    "            dist=newdist\n",
    "            id=name\n",
    "    if dist>threshold:\n",
    "        id=\"\"\n",
    "    return id"
   ]
  },
  {
   "cell_type": "code",
   "execution_count": 71,
   "metadata": {},
   "outputs": [],
   "source": [
    "def startwebcam(directory,model,threshold):\n",
    "    cam=cv2.VideoCapture(0)\n",
    "    students_encoding=get_students_encoding(model,directory)\n",
    "    while True:\n",
    "        ret,frame=cam.read()\n",
    "        faces=facedetector.detectMultiScale(frame,1.1,8)\n",
    "        for (x,y,w,h) in faces:\n",
    "            cv2.rectangle(frame,(x,y),(x+w,y+h),(255,0,0),2)\n",
    "        \n",
    "        if len(faces)==1:\n",
    "            \n",
    "            (x,y,w,h)=faces[0]\n",
    "            croppedframe=frame[y:y+h,x:x+w]\n",
    "            croppedframe=cv2.resize(croppedframe,(160,160),cv2.INTER_AREA)/255.0\n",
    "            dataset=np.array([croppedframe])\n",
    "            encoding_of_frame=model.predict(dataset)[0]\n",
    "\n",
    "            id=identify_student(encoding_of_frame,students_encoding,threshold)\n",
    "            \n",
    "            frame = cv2.putText(frame,id,(x,y),cv2.FONT_HERSHEY_SIMPLEX ,1,(255,255,255),1, cv2.LINE_AA)\n",
    "            \n",
    "        cv2.imshow('img',frame)\n",
    "        if cv2.waitKey(30) & 0xff ==ord('q'):\n",
    "            break    \n",
    "    cam.release()\n",
    "    cv2.destroyAllWindows()"
   ]
  },
  {
   "cell_type": "code",
   "execution_count": 72,
   "metadata": {},
   "outputs": [],
   "source": [
    "# Directory where cropped images are stored\n",
    "directory=r'facedatabase'"
   ]
  },
  {
   "cell_type": "code",
   "execution_count": 73,
   "metadata": {},
   "outputs": [],
   "source": [
    "# Press Q to stop\n",
    "threshold=8.0   # 50 to 65 for calculate distance, 8.0 to 11.75 for np.linalg.norm\n",
    "startwebcam(directory,model,threshold)"
   ]
  },
  {
   "cell_type": "code",
   "execution_count": 48,
   "metadata": {},
   "outputs": [],
   "source": [
    "add_student(directory,\"Gopal\")"
   ]
  }
 ],
 "metadata": {
  "kernelspec": {
   "display_name": "Python 3",
   "language": "python",
   "name": "python3"
  },
  "language_info": {
   "codemirror_mode": {
    "name": "ipython",
    "version": 3
   },
   "file_extension": ".py",
   "mimetype": "text/x-python",
   "name": "python",
   "nbconvert_exporter": "python",
   "pygments_lexer": "ipython3",
   "version": "3.6.9"
  }
 },
 "nbformat": 4,
 "nbformat_minor": 4
}
